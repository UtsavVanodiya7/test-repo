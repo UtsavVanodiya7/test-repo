{
  "nbformat": 4,
  "nbformat_minor": 0,
  "metadata": {
    "colab": {
      "name": "prime.ipynb",
      "provenance": [],
      "authorship_tag": "ABX9TyMATerLMbrHtcm95h+u4UAa",
      "include_colab_link": true
    },
    "kernelspec": {
      "name": "python3",
      "display_name": "Python 3"
    }
  },
  "cells": [
    {
      "cell_type": "markdown",
      "metadata": {
        "id": "view-in-github",
        "colab_type": "text"
      },
      "source": [
        "<a href=\"https://colab.research.google.com/github/UtsavVanodiya7/test-repo/blob/master/prime.ipynb\" target=\"_parent\"><img src=\"https://colab.research.google.com/assets/colab-badge.svg\" alt=\"Open In Colab\"/></a>"
      ]
    },
    {
      "cell_type": "markdown",
      "metadata": {
        "id": "sKvUkitgcAQd"
      },
      "source": [
        "# A simple program to check whether number is prime or not."
      ]
    },
    {
      "cell_type": "code",
      "metadata": {
        "colab": {
          "base_uri": "https://localhost:8080/"
        },
        "id": "btpjDps6byVv",
        "outputId": "cdcbd29b-6644-46aa-a8eb-76eab705c326"
      },
      "source": [
        "num = int(input(\"Enter a number:\"))"
      ],
      "execution_count": 5,
      "outputs": [
        {
          "output_type": "stream",
          "text": [
            "Enter a number:100\n"
          ],
          "name": "stdout"
        }
      ]
    },
    {
      "cell_type": "code",
      "metadata": {
        "colab": {
          "base_uri": "https://localhost:8080/"
        },
        "id": "4iJZi5uhcUBC",
        "outputId": "1b01882b-0bc6-427c-c414-9019399aadd7"
      },
      "source": [
        "prime = True\r\n",
        "\r\n",
        "for i in range(2, num):\r\n",
        "  if num % i ==0:\r\n",
        "    print(f\"{num} is not a prime number.\")\r\n",
        "    prime = False\r\n",
        "    break\r\n",
        "\r\n",
        "if prime:\r\n",
        "  print(f\"{num} is a prime number.\")"
      ],
      "execution_count": 6,
      "outputs": [
        {
          "output_type": "stream",
          "text": [
            "100 is not a prime number.\n"
          ],
          "name": "stdout"
        }
      ]
    }
  ]
}